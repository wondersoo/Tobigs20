{
 "cells": [
  {
   "cell_type": "markdown",
   "metadata": {},
   "source": [
    "# 차원축소 Assignment2"
   ]
  },
  {
   "cell_type": "markdown",
   "metadata": {},
   "source": [
    "## MNIST data에 적용을 해보기\n",
    "\n",
    "mnist-original.mat 파일과 같은 위치에서 주피터 노트북을 열어주세요"
   ]
  },
  {
   "cell_type": "code",
   "execution_count": 1,
   "metadata": {},
   "outputs": [],
   "source": [
    "import numpy as np\n",
    "import numpy.linalg as lin\n",
    "import matplotlib.pyplot as plt\n",
    "import pandas as pd\n",
    "from sklearn.datasets import fetch_openml\n",
    "from scipy import io\n",
    "%matplotlib inline\n",
    "from mpl_toolkits.mplot3d import Axes3D\n",
    "import warnings\n",
    "warnings.filterwarnings('ignore')"
   ]
  },
  {
   "cell_type": "code",
   "execution_count": 2,
   "metadata": {},
   "outputs": [],
   "source": [
    "mnist = io.loadmat('mnist-original.mat') #mnist 손글씨 데이터를 불러옵니다\n",
    "X = mnist['data'].T\n",
    "y = mnist['label'].T"
   ]
  },
  {
   "cell_type": "markdown",
   "metadata": {},
   "source": [
    "# 데이터 정보!\n",
    "- 7만개의 작은 숫자 이미지\n",
    "- 행 열이 반대로 되어있음 -> 전치\n",
    "- grayscale 28x28 pixel = 784 feature\n",
    "- 각 picel은 0~255의 값\n",
    "- label = 1~10 label이 총 10개인거에 주목하자"
   ]
  },
  {
   "cell_type": "code",
   "execution_count": 3,
   "metadata": {},
   "outputs": [
    {
     "name": "stdout",
     "output_type": "stream",
     "text": [
      "(70000, 784) (70000, 1)\n"
     ]
    }
   ],
   "source": [
    "print(X.shape, y.shape)"
   ]
  },
  {
   "cell_type": "code",
   "execution_count": 4,
   "metadata": {},
   "outputs": [
    {
     "data": {
      "text/html": [
       "<div>\n",
       "<style scoped>\n",
       "    .dataframe tbody tr th:only-of-type {\n",
       "        vertical-align: middle;\n",
       "    }\n",
       "\n",
       "    .dataframe tbody tr th {\n",
       "        vertical-align: top;\n",
       "    }\n",
       "\n",
       "    .dataframe thead th {\n",
       "        text-align: right;\n",
       "    }\n",
       "</style>\n",
       "<table border=\"1\" class=\"dataframe\">\n",
       "  <thead>\n",
       "    <tr style=\"text-align: right;\">\n",
       "      <th></th>\n",
       "      <th>pixel0</th>\n",
       "      <th>pixel1</th>\n",
       "      <th>pixel2</th>\n",
       "      <th>pixel3</th>\n",
       "      <th>pixel4</th>\n",
       "      <th>pixel5</th>\n",
       "      <th>pixel6</th>\n",
       "      <th>pixel7</th>\n",
       "      <th>pixel8</th>\n",
       "      <th>pixel9</th>\n",
       "      <th>...</th>\n",
       "      <th>pixel774</th>\n",
       "      <th>pixel775</th>\n",
       "      <th>pixel776</th>\n",
       "      <th>pixel777</th>\n",
       "      <th>pixel778</th>\n",
       "      <th>pixel779</th>\n",
       "      <th>pixel780</th>\n",
       "      <th>pixel781</th>\n",
       "      <th>pixel782</th>\n",
       "      <th>pixel783</th>\n",
       "    </tr>\n",
       "  </thead>\n",
       "  <tbody>\n",
       "    <tr>\n",
       "      <th>0</th>\n",
       "      <td>0</td>\n",
       "      <td>0</td>\n",
       "      <td>0</td>\n",
       "      <td>0</td>\n",
       "      <td>0</td>\n",
       "      <td>0</td>\n",
       "      <td>0</td>\n",
       "      <td>0</td>\n",
       "      <td>0</td>\n",
       "      <td>0</td>\n",
       "      <td>...</td>\n",
       "      <td>0</td>\n",
       "      <td>0</td>\n",
       "      <td>0</td>\n",
       "      <td>0</td>\n",
       "      <td>0</td>\n",
       "      <td>0</td>\n",
       "      <td>0</td>\n",
       "      <td>0</td>\n",
       "      <td>0</td>\n",
       "      <td>0</td>\n",
       "    </tr>\n",
       "    <tr>\n",
       "      <th>1</th>\n",
       "      <td>0</td>\n",
       "      <td>0</td>\n",
       "      <td>0</td>\n",
       "      <td>0</td>\n",
       "      <td>0</td>\n",
       "      <td>0</td>\n",
       "      <td>0</td>\n",
       "      <td>0</td>\n",
       "      <td>0</td>\n",
       "      <td>0</td>\n",
       "      <td>...</td>\n",
       "      <td>0</td>\n",
       "      <td>0</td>\n",
       "      <td>0</td>\n",
       "      <td>0</td>\n",
       "      <td>0</td>\n",
       "      <td>0</td>\n",
       "      <td>0</td>\n",
       "      <td>0</td>\n",
       "      <td>0</td>\n",
       "      <td>0</td>\n",
       "    </tr>\n",
       "    <tr>\n",
       "      <th>2</th>\n",
       "      <td>0</td>\n",
       "      <td>0</td>\n",
       "      <td>0</td>\n",
       "      <td>0</td>\n",
       "      <td>0</td>\n",
       "      <td>0</td>\n",
       "      <td>0</td>\n",
       "      <td>0</td>\n",
       "      <td>0</td>\n",
       "      <td>0</td>\n",
       "      <td>...</td>\n",
       "      <td>0</td>\n",
       "      <td>0</td>\n",
       "      <td>0</td>\n",
       "      <td>0</td>\n",
       "      <td>0</td>\n",
       "      <td>0</td>\n",
       "      <td>0</td>\n",
       "      <td>0</td>\n",
       "      <td>0</td>\n",
       "      <td>0</td>\n",
       "    </tr>\n",
       "    <tr>\n",
       "      <th>3</th>\n",
       "      <td>0</td>\n",
       "      <td>0</td>\n",
       "      <td>0</td>\n",
       "      <td>0</td>\n",
       "      <td>0</td>\n",
       "      <td>0</td>\n",
       "      <td>0</td>\n",
       "      <td>0</td>\n",
       "      <td>0</td>\n",
       "      <td>0</td>\n",
       "      <td>...</td>\n",
       "      <td>0</td>\n",
       "      <td>0</td>\n",
       "      <td>0</td>\n",
       "      <td>0</td>\n",
       "      <td>0</td>\n",
       "      <td>0</td>\n",
       "      <td>0</td>\n",
       "      <td>0</td>\n",
       "      <td>0</td>\n",
       "      <td>0</td>\n",
       "    </tr>\n",
       "    <tr>\n",
       "      <th>4</th>\n",
       "      <td>0</td>\n",
       "      <td>0</td>\n",
       "      <td>0</td>\n",
       "      <td>0</td>\n",
       "      <td>0</td>\n",
       "      <td>0</td>\n",
       "      <td>0</td>\n",
       "      <td>0</td>\n",
       "      <td>0</td>\n",
       "      <td>0</td>\n",
       "      <td>...</td>\n",
       "      <td>0</td>\n",
       "      <td>0</td>\n",
       "      <td>0</td>\n",
       "      <td>0</td>\n",
       "      <td>0</td>\n",
       "      <td>0</td>\n",
       "      <td>0</td>\n",
       "      <td>0</td>\n",
       "      <td>0</td>\n",
       "      <td>0</td>\n",
       "    </tr>\n",
       "  </tbody>\n",
       "</table>\n",
       "<p>5 rows × 784 columns</p>\n",
       "</div>"
      ],
      "text/plain": [
       "   pixel0  pixel1  pixel2  pixel3  pixel4  pixel5  pixel6  pixel7  pixel8  \\\n",
       "0       0       0       0       0       0       0       0       0       0   \n",
       "1       0       0       0       0       0       0       0       0       0   \n",
       "2       0       0       0       0       0       0       0       0       0   \n",
       "3       0       0       0       0       0       0       0       0       0   \n",
       "4       0       0       0       0       0       0       0       0       0   \n",
       "\n",
       "   pixel9  ...  pixel774  pixel775  pixel776  pixel777  pixel778  pixel779  \\\n",
       "0       0  ...         0         0         0         0         0         0   \n",
       "1       0  ...         0         0         0         0         0         0   \n",
       "2       0  ...         0         0         0         0         0         0   \n",
       "3       0  ...         0         0         0         0         0         0   \n",
       "4       0  ...         0         0         0         0         0         0   \n",
       "\n",
       "   pixel780  pixel781  pixel782  pixel783  \n",
       "0         0         0         0         0  \n",
       "1         0         0         0         0  \n",
       "2         0         0         0         0  \n",
       "3         0         0         0         0  \n",
       "4         0         0         0         0  \n",
       "\n",
       "[5 rows x 784 columns]"
      ]
     },
     "execution_count": 4,
     "metadata": {},
     "output_type": "execute_result"
    }
   ],
   "source": [
    "# data를 각 픽셀에 이름붙여 표현\n",
    "feat_cols = [ 'pixel'+str(i) for i in range(X.shape[1]) ]\n",
    "df = pd.DataFrame(X,columns=feat_cols)\n",
    "df.head()"
   ]
  },
  {
   "cell_type": "code",
   "execution_count": 5,
   "metadata": {},
   "outputs": [
    {
     "name": "stdout",
     "output_type": "stream",
     "text": [
      "Size of the dataframe: (70000, 785)\n"
     ]
    }
   ],
   "source": [
    "# df에 라벨 y를 붙여서 데이터프레임 생성\n",
    "df['y'] = y\n",
    "print('Size of the dataframe: {}'.format(df.shape))"
   ]
  },
  {
   "cell_type": "code",
   "execution_count": 6,
   "metadata": {},
   "outputs": [
    {
     "data": {
      "text/html": [
       "<div>\n",
       "<style scoped>\n",
       "    .dataframe tbody tr th:only-of-type {\n",
       "        vertical-align: middle;\n",
       "    }\n",
       "\n",
       "    .dataframe tbody tr th {\n",
       "        vertical-align: top;\n",
       "    }\n",
       "\n",
       "    .dataframe thead th {\n",
       "        text-align: right;\n",
       "    }\n",
       "</style>\n",
       "<table border=\"1\" class=\"dataframe\">\n",
       "  <thead>\n",
       "    <tr style=\"text-align: right;\">\n",
       "      <th></th>\n",
       "      <th>pixel0</th>\n",
       "      <th>pixel1</th>\n",
       "      <th>pixel2</th>\n",
       "      <th>pixel3</th>\n",
       "      <th>pixel4</th>\n",
       "      <th>pixel5</th>\n",
       "      <th>pixel6</th>\n",
       "      <th>pixel7</th>\n",
       "      <th>pixel8</th>\n",
       "      <th>pixel9</th>\n",
       "      <th>...</th>\n",
       "      <th>pixel775</th>\n",
       "      <th>pixel776</th>\n",
       "      <th>pixel777</th>\n",
       "      <th>pixel778</th>\n",
       "      <th>pixel779</th>\n",
       "      <th>pixel780</th>\n",
       "      <th>pixel781</th>\n",
       "      <th>pixel782</th>\n",
       "      <th>pixel783</th>\n",
       "      <th>y</th>\n",
       "    </tr>\n",
       "  </thead>\n",
       "  <tbody>\n",
       "    <tr>\n",
       "      <th>0</th>\n",
       "      <td>0</td>\n",
       "      <td>0</td>\n",
       "      <td>0</td>\n",
       "      <td>0</td>\n",
       "      <td>0</td>\n",
       "      <td>0</td>\n",
       "      <td>0</td>\n",
       "      <td>0</td>\n",
       "      <td>0</td>\n",
       "      <td>0</td>\n",
       "      <td>...</td>\n",
       "      <td>0</td>\n",
       "      <td>0</td>\n",
       "      <td>0</td>\n",
       "      <td>0</td>\n",
       "      <td>0</td>\n",
       "      <td>0</td>\n",
       "      <td>0</td>\n",
       "      <td>0</td>\n",
       "      <td>0</td>\n",
       "      <td>0.0</td>\n",
       "    </tr>\n",
       "    <tr>\n",
       "      <th>1</th>\n",
       "      <td>0</td>\n",
       "      <td>0</td>\n",
       "      <td>0</td>\n",
       "      <td>0</td>\n",
       "      <td>0</td>\n",
       "      <td>0</td>\n",
       "      <td>0</td>\n",
       "      <td>0</td>\n",
       "      <td>0</td>\n",
       "      <td>0</td>\n",
       "      <td>...</td>\n",
       "      <td>0</td>\n",
       "      <td>0</td>\n",
       "      <td>0</td>\n",
       "      <td>0</td>\n",
       "      <td>0</td>\n",
       "      <td>0</td>\n",
       "      <td>0</td>\n",
       "      <td>0</td>\n",
       "      <td>0</td>\n",
       "      <td>0.0</td>\n",
       "    </tr>\n",
       "    <tr>\n",
       "      <th>2</th>\n",
       "      <td>0</td>\n",
       "      <td>0</td>\n",
       "      <td>0</td>\n",
       "      <td>0</td>\n",
       "      <td>0</td>\n",
       "      <td>0</td>\n",
       "      <td>0</td>\n",
       "      <td>0</td>\n",
       "      <td>0</td>\n",
       "      <td>0</td>\n",
       "      <td>...</td>\n",
       "      <td>0</td>\n",
       "      <td>0</td>\n",
       "      <td>0</td>\n",
       "      <td>0</td>\n",
       "      <td>0</td>\n",
       "      <td>0</td>\n",
       "      <td>0</td>\n",
       "      <td>0</td>\n",
       "      <td>0</td>\n",
       "      <td>0.0</td>\n",
       "    </tr>\n",
       "    <tr>\n",
       "      <th>3</th>\n",
       "      <td>0</td>\n",
       "      <td>0</td>\n",
       "      <td>0</td>\n",
       "      <td>0</td>\n",
       "      <td>0</td>\n",
       "      <td>0</td>\n",
       "      <td>0</td>\n",
       "      <td>0</td>\n",
       "      <td>0</td>\n",
       "      <td>0</td>\n",
       "      <td>...</td>\n",
       "      <td>0</td>\n",
       "      <td>0</td>\n",
       "      <td>0</td>\n",
       "      <td>0</td>\n",
       "      <td>0</td>\n",
       "      <td>0</td>\n",
       "      <td>0</td>\n",
       "      <td>0</td>\n",
       "      <td>0</td>\n",
       "      <td>0.0</td>\n",
       "    </tr>\n",
       "    <tr>\n",
       "      <th>4</th>\n",
       "      <td>0</td>\n",
       "      <td>0</td>\n",
       "      <td>0</td>\n",
       "      <td>0</td>\n",
       "      <td>0</td>\n",
       "      <td>0</td>\n",
       "      <td>0</td>\n",
       "      <td>0</td>\n",
       "      <td>0</td>\n",
       "      <td>0</td>\n",
       "      <td>...</td>\n",
       "      <td>0</td>\n",
       "      <td>0</td>\n",
       "      <td>0</td>\n",
       "      <td>0</td>\n",
       "      <td>0</td>\n",
       "      <td>0</td>\n",
       "      <td>0</td>\n",
       "      <td>0</td>\n",
       "      <td>0</td>\n",
       "      <td>0.0</td>\n",
       "    </tr>\n",
       "    <tr>\n",
       "      <th>...</th>\n",
       "      <td>...</td>\n",
       "      <td>...</td>\n",
       "      <td>...</td>\n",
       "      <td>...</td>\n",
       "      <td>...</td>\n",
       "      <td>...</td>\n",
       "      <td>...</td>\n",
       "      <td>...</td>\n",
       "      <td>...</td>\n",
       "      <td>...</td>\n",
       "      <td>...</td>\n",
       "      <td>...</td>\n",
       "      <td>...</td>\n",
       "      <td>...</td>\n",
       "      <td>...</td>\n",
       "      <td>...</td>\n",
       "      <td>...</td>\n",
       "      <td>...</td>\n",
       "      <td>...</td>\n",
       "      <td>...</td>\n",
       "      <td>...</td>\n",
       "    </tr>\n",
       "    <tr>\n",
       "      <th>69995</th>\n",
       "      <td>0</td>\n",
       "      <td>0</td>\n",
       "      <td>0</td>\n",
       "      <td>0</td>\n",
       "      <td>0</td>\n",
       "      <td>0</td>\n",
       "      <td>0</td>\n",
       "      <td>0</td>\n",
       "      <td>0</td>\n",
       "      <td>0</td>\n",
       "      <td>...</td>\n",
       "      <td>0</td>\n",
       "      <td>0</td>\n",
       "      <td>0</td>\n",
       "      <td>0</td>\n",
       "      <td>0</td>\n",
       "      <td>0</td>\n",
       "      <td>0</td>\n",
       "      <td>0</td>\n",
       "      <td>0</td>\n",
       "      <td>9.0</td>\n",
       "    </tr>\n",
       "    <tr>\n",
       "      <th>69996</th>\n",
       "      <td>0</td>\n",
       "      <td>0</td>\n",
       "      <td>0</td>\n",
       "      <td>0</td>\n",
       "      <td>0</td>\n",
       "      <td>0</td>\n",
       "      <td>0</td>\n",
       "      <td>0</td>\n",
       "      <td>0</td>\n",
       "      <td>0</td>\n",
       "      <td>...</td>\n",
       "      <td>0</td>\n",
       "      <td>0</td>\n",
       "      <td>0</td>\n",
       "      <td>0</td>\n",
       "      <td>0</td>\n",
       "      <td>0</td>\n",
       "      <td>0</td>\n",
       "      <td>0</td>\n",
       "      <td>0</td>\n",
       "      <td>9.0</td>\n",
       "    </tr>\n",
       "    <tr>\n",
       "      <th>69997</th>\n",
       "      <td>0</td>\n",
       "      <td>0</td>\n",
       "      <td>0</td>\n",
       "      <td>0</td>\n",
       "      <td>0</td>\n",
       "      <td>0</td>\n",
       "      <td>0</td>\n",
       "      <td>0</td>\n",
       "      <td>0</td>\n",
       "      <td>0</td>\n",
       "      <td>...</td>\n",
       "      <td>0</td>\n",
       "      <td>0</td>\n",
       "      <td>0</td>\n",
       "      <td>0</td>\n",
       "      <td>0</td>\n",
       "      <td>0</td>\n",
       "      <td>0</td>\n",
       "      <td>0</td>\n",
       "      <td>0</td>\n",
       "      <td>9.0</td>\n",
       "    </tr>\n",
       "    <tr>\n",
       "      <th>69998</th>\n",
       "      <td>0</td>\n",
       "      <td>0</td>\n",
       "      <td>0</td>\n",
       "      <td>0</td>\n",
       "      <td>0</td>\n",
       "      <td>0</td>\n",
       "      <td>0</td>\n",
       "      <td>0</td>\n",
       "      <td>0</td>\n",
       "      <td>0</td>\n",
       "      <td>...</td>\n",
       "      <td>0</td>\n",
       "      <td>0</td>\n",
       "      <td>0</td>\n",
       "      <td>0</td>\n",
       "      <td>0</td>\n",
       "      <td>0</td>\n",
       "      <td>0</td>\n",
       "      <td>0</td>\n",
       "      <td>0</td>\n",
       "      <td>9.0</td>\n",
       "    </tr>\n",
       "    <tr>\n",
       "      <th>69999</th>\n",
       "      <td>0</td>\n",
       "      <td>0</td>\n",
       "      <td>0</td>\n",
       "      <td>0</td>\n",
       "      <td>0</td>\n",
       "      <td>0</td>\n",
       "      <td>0</td>\n",
       "      <td>0</td>\n",
       "      <td>0</td>\n",
       "      <td>0</td>\n",
       "      <td>...</td>\n",
       "      <td>0</td>\n",
       "      <td>0</td>\n",
       "      <td>0</td>\n",
       "      <td>0</td>\n",
       "      <td>0</td>\n",
       "      <td>0</td>\n",
       "      <td>0</td>\n",
       "      <td>0</td>\n",
       "      <td>0</td>\n",
       "      <td>9.0</td>\n",
       "    </tr>\n",
       "  </tbody>\n",
       "</table>\n",
       "<p>70000 rows × 785 columns</p>\n",
       "</div>"
      ],
      "text/plain": [
       "       pixel0  pixel1  pixel2  pixel3  pixel4  pixel5  pixel6  pixel7  pixel8  \\\n",
       "0           0       0       0       0       0       0       0       0       0   \n",
       "1           0       0       0       0       0       0       0       0       0   \n",
       "2           0       0       0       0       0       0       0       0       0   \n",
       "3           0       0       0       0       0       0       0       0       0   \n",
       "4           0       0       0       0       0       0       0       0       0   \n",
       "...       ...     ...     ...     ...     ...     ...     ...     ...     ...   \n",
       "69995       0       0       0       0       0       0       0       0       0   \n",
       "69996       0       0       0       0       0       0       0       0       0   \n",
       "69997       0       0       0       0       0       0       0       0       0   \n",
       "69998       0       0       0       0       0       0       0       0       0   \n",
       "69999       0       0       0       0       0       0       0       0       0   \n",
       "\n",
       "       pixel9  ...  pixel775  pixel776  pixel777  pixel778  pixel779  \\\n",
       "0           0  ...         0         0         0         0         0   \n",
       "1           0  ...         0         0         0         0         0   \n",
       "2           0  ...         0         0         0         0         0   \n",
       "3           0  ...         0         0         0         0         0   \n",
       "4           0  ...         0         0         0         0         0   \n",
       "...       ...  ...       ...       ...       ...       ...       ...   \n",
       "69995       0  ...         0         0         0         0         0   \n",
       "69996       0  ...         0         0         0         0         0   \n",
       "69997       0  ...         0         0         0         0         0   \n",
       "69998       0  ...         0         0         0         0         0   \n",
       "69999       0  ...         0         0         0         0         0   \n",
       "\n",
       "       pixel780  pixel781  pixel782  pixel783    y  \n",
       "0             0         0         0         0  0.0  \n",
       "1             0         0         0         0  0.0  \n",
       "2             0         0         0         0  0.0  \n",
       "3             0         0         0         0  0.0  \n",
       "4             0         0         0         0  0.0  \n",
       "...         ...       ...       ...       ...  ...  \n",
       "69995         0         0         0         0  9.0  \n",
       "69996         0         0         0         0  9.0  \n",
       "69997         0         0         0         0  9.0  \n",
       "69998         0         0         0         0  9.0  \n",
       "69999         0         0         0         0  9.0  \n",
       "\n",
       "[70000 rows x 785 columns]"
      ]
     },
     "execution_count": 6,
     "metadata": {},
     "output_type": "execute_result"
    }
   ],
   "source": [
    "df"
   ]
  },
  {
   "cell_type": "code",
   "execution_count": 7,
   "metadata": {},
   "outputs": [
    {
     "data": {
      "text/plain": [
       "<Figure size 640x480 with 0 Axes>"
      ]
     },
     "metadata": {},
     "output_type": "display_data"
    },
    {
     "data": {
      "image/png": "[encoded data removed]",
      "text/plain": [
       "<Figure size 1600x700 with 15 Axes>"
      ]
     },
     "metadata": {},
     "output_type": "display_data"
    }
   ],
   "source": [
    "# 데이터 형태 시각화\n",
    "\n",
    "import matplotlib.pyplot as plt\n",
    "\n",
    "rndperm = np.random.permutation(df.shape[0])\n",
    "\n",
    "# Plot the graph\n",
    "plt.gray()\n",
    "fig = plt.figure( figsize=(16,7) )\n",
    "for i in range(0,15):\n",
    "    ax = fig.add_subplot(3,5,i+1, title=\"Digit: {}\".format(str(df.loc[rndperm[i],'y'])) )\n",
    "    ax.matshow(df.loc[rndperm[i],feat_cols].values.reshape((28,28)).astype(float))\n",
    "plt.show()"
   ]
  },
  {
   "cell_type": "markdown",
   "metadata": {},
   "source": [
    "### 1) train_test_split을 통해 데이터를 0.8 0.2의 비율로 분할 해 주세요"
   ]
  },
  {
   "cell_type": "code",
   "execution_count": 8,
   "metadata": {},
   "outputs": [],
   "source": [
    "X = X / 255"
   ]
  },
  {
   "cell_type": "code",
   "execution_count": 9,
   "metadata": {},
   "outputs": [],
   "source": [
    "from sklearn.model_selection import train_test_split\n",
    "\n",
    "X_train, X_test, y_train, y_test = train_test_split(X, y, test_size=0.2, random_state=42)"
   ]
  },
  {
   "cell_type": "markdown",
   "metadata": {},
   "source": [
    "### 여기서부터는 원본데이터 & PCA 축소 데이터 & LDA 축소 데이터 비교해주세요"
   ]
  },
  {
   "cell_type": "markdown",
   "metadata": {},
   "source": [
    "### 2) 차원축소 기법(PCA와 LDA)을 이용하여 mnist data를 축소시켜주세요\n",
    "\n",
    "pca를 이용할 때는, 주성분 개수를 정하는 과정에 대해 잘 서술해주시면 좋겠죠!<br>\n",
    "강의에서 배웠던 3가지 중 어떤 걸 고려해서 갯수를 정했는지요!!!!<br>\n",
    "scree plot같은거는 직접 그려서 확인해주면 좋겠죠???"
   ]
  },
  {
   "cell_type": "markdown",
   "metadata": {},
   "source": [
    "# PCA"
   ]
  },
  {
   "cell_type": "code",
   "execution_count": 10,
   "metadata": {},
   "outputs": [],
   "source": [
    "from sklearn.decomposition import PCA\n",
    "from sklearn.preprocessing import StandardScaler\n",
    "\n",
    "pca = PCA()\n",
    "pca_arr = pca.fit_transform(X_train)\n",
    "pca_col = [f'pca{i+1}' for i in range(X_train.shape[1])]"
   ]
  },
  {
   "cell_type": "code",
   "execution_count": 11,
   "metadata": {},
   "outputs": [
    {
     "data": {
      "text/html": [
       "<div>\n",
       "<style scoped>\n",
       "    .dataframe tbody tr th:only-of-type {\n",
       "        vertical-align: middle;\n",
       "    }\n",
       "\n",
       "    .dataframe tbody tr th {\n",
       "        vertical-align: top;\n",
       "    }\n",
       "\n",
       "    .dataframe thead th {\n",
       "        text-align: right;\n",
       "    }\n",
       "</style>\n",
       "<table border=\"1\" class=\"dataframe\">\n",
       "  <thead>\n",
       "    <tr style=\"text-align: right;\">\n",
       "      <th></th>\n",
       "      <th>explained_variance</th>\n",
       "      <th>explained_variance_ratio</th>\n",
       "      <th>cum_sum_ratio</th>\n",
       "    </tr>\n",
       "  </thead>\n",
       "  <tbody>\n",
       "    <tr>\n",
       "      <th>pca1</th>\n",
       "      <td>5.145067</td>\n",
       "      <td>0.097568</td>\n",
       "      <td>0.097568</td>\n",
       "    </tr>\n",
       "    <tr>\n",
       "      <th>pca2</th>\n",
       "      <td>3.776491</td>\n",
       "      <td>0.071615</td>\n",
       "      <td>0.169183</td>\n",
       "    </tr>\n",
       "    <tr>\n",
       "      <th>pca3</th>\n",
       "      <td>3.239147</td>\n",
       "      <td>0.061425</td>\n",
       "      <td>0.230608</td>\n",
       "    </tr>\n",
       "    <tr>\n",
       "      <th>pca4</th>\n",
       "      <td>2.855460</td>\n",
       "      <td>0.054149</td>\n",
       "      <td>0.284757</td>\n",
       "    </tr>\n",
       "    <tr>\n",
       "      <th>pca5</th>\n",
       "      <td>2.578636</td>\n",
       "      <td>0.048900</td>\n",
       "      <td>0.333657</td>\n",
       "    </tr>\n",
       "    <tr>\n",
       "      <th>pca6</th>\n",
       "      <td>2.266963</td>\n",
       "      <td>0.042989</td>\n",
       "      <td>0.376646</td>\n",
       "    </tr>\n",
       "    <tr>\n",
       "      <th>pca7</th>\n",
       "      <td>1.732223</td>\n",
       "      <td>0.032849</td>\n",
       "      <td>0.409495</td>\n",
       "    </tr>\n",
       "    <tr>\n",
       "      <th>pca8</th>\n",
       "      <td>1.520176</td>\n",
       "      <td>0.028828</td>\n",
       "      <td>0.438322</td>\n",
       "    </tr>\n",
       "    <tr>\n",
       "      <th>pca9</th>\n",
       "      <td>1.453889</td>\n",
       "      <td>0.027571</td>\n",
       "      <td>0.465893</td>\n",
       "    </tr>\n",
       "    <tr>\n",
       "      <th>pca10</th>\n",
       "      <td>1.239568</td>\n",
       "      <td>0.023506</td>\n",
       "      <td>0.489399</td>\n",
       "    </tr>\n",
       "    <tr>\n",
       "      <th>pca11</th>\n",
       "      <td>1.109290</td>\n",
       "      <td>0.021036</td>\n",
       "      <td>0.510435</td>\n",
       "    </tr>\n",
       "    <tr>\n",
       "      <th>pca12</th>\n",
       "      <td>1.069255</td>\n",
       "      <td>0.020277</td>\n",
       "      <td>0.530712</td>\n",
       "    </tr>\n",
       "    <tr>\n",
       "      <th>pca13</th>\n",
       "      <td>0.899458</td>\n",
       "      <td>0.017057</td>\n",
       "      <td>0.547769</td>\n",
       "    </tr>\n",
       "    <tr>\n",
       "      <th>pca14</th>\n",
       "      <td>0.896936</td>\n",
       "      <td>0.017009</td>\n",
       "      <td>0.564778</td>\n",
       "    </tr>\n",
       "    <tr>\n",
       "      <th>pca15</th>\n",
       "      <td>0.832833</td>\n",
       "      <td>0.015793</td>\n",
       "      <td>0.580571</td>\n",
       "    </tr>\n",
       "    <tr>\n",
       "      <th>pca16</th>\n",
       "      <td>0.783931</td>\n",
       "      <td>0.014866</td>\n",
       "      <td>0.595437</td>\n",
       "    </tr>\n",
       "    <tr>\n",
       "      <th>pca17</th>\n",
       "      <td>0.697737</td>\n",
       "      <td>0.013231</td>\n",
       "      <td>0.608668</td>\n",
       "    </tr>\n",
       "    <tr>\n",
       "      <th>pca18</th>\n",
       "      <td>0.674735</td>\n",
       "      <td>0.012795</td>\n",
       "      <td>0.621464</td>\n",
       "    </tr>\n",
       "    <tr>\n",
       "      <th>pca19</th>\n",
       "      <td>0.626388</td>\n",
       "      <td>0.011878</td>\n",
       "      <td>0.633342</td>\n",
       "    </tr>\n",
       "    <tr>\n",
       "      <th>pca20</th>\n",
       "      <td>0.603982</td>\n",
       "      <td>0.011454</td>\n",
       "      <td>0.644796</td>\n",
       "    </tr>\n",
       "    <tr>\n",
       "      <th>pca21</th>\n",
       "      <td>0.563279</td>\n",
       "      <td>0.010682</td>\n",
       "      <td>0.655477</td>\n",
       "    </tr>\n",
       "    <tr>\n",
       "      <th>pca22</th>\n",
       "      <td>0.531562</td>\n",
       "      <td>0.010080</td>\n",
       "      <td>0.665558</td>\n",
       "    </tr>\n",
       "    <tr>\n",
       "      <th>pca23</th>\n",
       "      <td>0.505066</td>\n",
       "      <td>0.009578</td>\n",
       "      <td>0.675135</td>\n",
       "    </tr>\n",
       "    <tr>\n",
       "      <th>pca24</th>\n",
       "      <td>0.479142</td>\n",
       "      <td>0.009086</td>\n",
       "      <td>0.684221</td>\n",
       "    </tr>\n",
       "    <tr>\n",
       "      <th>pca25</th>\n",
       "      <td>0.465199</td>\n",
       "      <td>0.008822</td>\n",
       "      <td>0.693043</td>\n",
       "    </tr>\n",
       "    <tr>\n",
       "      <th>pca26</th>\n",
       "      <td>0.442472</td>\n",
       "      <td>0.008391</td>\n",
       "      <td>0.701434</td>\n",
       "    </tr>\n",
       "    <tr>\n",
       "      <th>pca27</th>\n",
       "      <td>0.428132</td>\n",
       "      <td>0.008119</td>\n",
       "      <td>0.709553</td>\n",
       "    </tr>\n",
       "    <tr>\n",
       "      <th>pca28</th>\n",
       "      <td>0.415705</td>\n",
       "      <td>0.007883</td>\n",
       "      <td>0.717436</td>\n",
       "    </tr>\n",
       "    <tr>\n",
       "      <th>pca29</th>\n",
       "      <td>0.389161</td>\n",
       "      <td>0.007380</td>\n",
       "      <td>0.724816</td>\n",
       "    </tr>\n",
       "    <tr>\n",
       "      <th>pca30</th>\n",
       "      <td>0.364704</td>\n",
       "      <td>0.006916</td>\n",
       "      <td>0.731732</td>\n",
       "    </tr>\n",
       "    <tr>\n",
       "      <th>pca31</th>\n",
       "      <td>0.346219</td>\n",
       "      <td>0.006565</td>\n",
       "      <td>0.738297</td>\n",
       "    </tr>\n",
       "    <tr>\n",
       "      <th>pca32</th>\n",
       "      <td>0.340218</td>\n",
       "      <td>0.006452</td>\n",
       "      <td>0.744749</td>\n",
       "    </tr>\n",
       "    <tr>\n",
       "      <th>pca33</th>\n",
       "      <td>0.317901</td>\n",
       "      <td>0.006028</td>\n",
       "      <td>0.750777</td>\n",
       "    </tr>\n",
       "    <tr>\n",
       "      <th>pca34</th>\n",
       "      <td>0.308013</td>\n",
       "      <td>0.005841</td>\n",
       "      <td>0.756618</td>\n",
       "    </tr>\n",
       "    <tr>\n",
       "      <th>pca35</th>\n",
       "      <td>0.299261</td>\n",
       "      <td>0.005675</td>\n",
       "      <td>0.762293</td>\n",
       "    </tr>\n",
       "    <tr>\n",
       "      <th>pca36</th>\n",
       "      <td>0.285932</td>\n",
       "      <td>0.005422</td>\n",
       "      <td>0.767716</td>\n",
       "    </tr>\n",
       "    <tr>\n",
       "      <th>pca37</th>\n",
       "      <td>0.266300</td>\n",
       "      <td>0.005050</td>\n",
       "      <td>0.772765</td>\n",
       "    </tr>\n",
       "    <tr>\n",
       "      <th>pca38</th>\n",
       "      <td>0.255990</td>\n",
       "      <td>0.004854</td>\n",
       "      <td>0.777620</td>\n",
       "    </tr>\n",
       "    <tr>\n",
       "      <th>pca39</th>\n",
       "      <td>0.252354</td>\n",
       "      <td>0.004785</td>\n",
       "      <td>0.782405</td>\n",
       "    </tr>\n",
       "    <tr>\n",
       "      <th>pca40</th>\n",
       "      <td>0.246606</td>\n",
       "      <td>0.004676</td>\n",
       "      <td>0.787082</td>\n",
       "    </tr>\n",
       "    <tr>\n",
       "      <th>pca41</th>\n",
       "      <td>0.240226</td>\n",
       "      <td>0.004556</td>\n",
       "      <td>0.791637</td>\n",
       "    </tr>\n",
       "    <tr>\n",
       "      <th>pca42</th>\n",
       "      <td>0.234420</td>\n",
       "      <td>0.004445</td>\n",
       "      <td>0.796083</td>\n",
       "    </tr>\n",
       "    <tr>\n",
       "      <th>pca43</th>\n",
       "      <td>0.220674</td>\n",
       "      <td>0.004185</td>\n",
       "      <td>0.800267</td>\n",
       "    </tr>\n",
       "    <tr>\n",
       "      <th>pca44</th>\n",
       "      <td>0.208876</td>\n",
       "      <td>0.003961</td>\n",
       "      <td>0.804228</td>\n",
       "    </tr>\n",
       "    <tr>\n",
       "      <th>pca45</th>\n",
       "      <td>0.202548</td>\n",
       "      <td>0.003841</td>\n",
       "      <td>0.808069</td>\n",
       "    </tr>\n",
       "    <tr>\n",
       "      <th>pca46</th>\n",
       "      <td>0.197537</td>\n",
       "      <td>0.003746</td>\n",
       "      <td>0.811815</td>\n",
       "    </tr>\n",
       "    <tr>\n",
       "      <th>pca47</th>\n",
       "      <td>0.191079</td>\n",
       "      <td>0.003624</td>\n",
       "      <td>0.815439</td>\n",
       "    </tr>\n",
       "    <tr>\n",
       "      <th>pca48</th>\n",
       "      <td>0.184102</td>\n",
       "      <td>0.003491</td>\n",
       "      <td>0.818930</td>\n",
       "    </tr>\n",
       "    <tr>\n",
       "      <th>pca49</th>\n",
       "      <td>0.178137</td>\n",
       "      <td>0.003378</td>\n",
       "      <td>0.822308</td>\n",
       "    </tr>\n",
       "    <tr>\n",
       "      <th>pca50</th>\n",
       "      <td>0.169253</td>\n",
       "      <td>0.003210</td>\n",
       "      <td>0.825518</td>\n",
       "    </tr>\n",
       "  </tbody>\n",
       "</table>\n",
       "</div>"
      ],
      "text/plain": [
       "       explained_variance  explained_variance_ratio  cum_sum_ratio\n",
       "pca1             5.145067                  0.097568       0.097568\n",
       "pca2             3.776491                  0.071615       0.169183\n",
       "pca3             3.239147                  0.061425       0.230608\n",
       "pca4             2.855460                  0.054149       0.284757\n",
       "pca5             2.578636                  0.048900       0.333657\n",
       "pca6             2.266963                  0.042989       0.376646\n",
       "pca7             1.732223                  0.032849       0.409495\n",
       "pca8             1.520176                  0.028828       0.438322\n",
       "pca9             1.453889                  0.027571       0.465893\n",
       "pca10            1.239568                  0.023506       0.489399\n",
       "pca11            1.109290                  0.021036       0.510435\n",
       "pca12            1.069255                  0.020277       0.530712\n",
       "pca13            0.899458                  0.017057       0.547769\n",
       "pca14            0.896936                  0.017009       0.564778\n",
       "pca15            0.832833                  0.015793       0.580571\n",
       "pca16            0.783931                  0.014866       0.595437\n",
       "pca17            0.697737                  0.013231       0.608668\n",
       "pca18            0.674735                  0.012795       0.621464\n",
       "pca19            0.626388                  0.011878       0.633342\n",
       "pca20            0.603982                  0.011454       0.644796\n",
       "pca21            0.563279                  0.010682       0.655477\n",
       "pca22            0.531562                  0.010080       0.665558\n",
       "pca23            0.505066                  0.009578       0.675135\n",
       "pca24            0.479142                  0.009086       0.684221\n",
       "pca25            0.465199                  0.008822       0.693043\n",
       "pca26            0.442472                  0.008391       0.701434\n",
       "pca27            0.428132                  0.008119       0.709553\n",
       "pca28            0.415705                  0.007883       0.717436\n",
       "pca29            0.389161                  0.007380       0.724816\n",
       "pca30            0.364704                  0.006916       0.731732\n",
       "pca31            0.346219                  0.006565       0.738297\n",
       "pca32            0.340218                  0.006452       0.744749\n",
       "pca33            0.317901                  0.006028       0.750777\n",
       "pca34            0.308013                  0.005841       0.756618\n",
       "pca35            0.299261                  0.005675       0.762293\n",
       "pca36            0.285932                  0.005422       0.767716\n",
       "pca37            0.266300                  0.005050       0.772765\n",
       "pca38            0.255990                  0.004854       0.777620\n",
       "pca39            0.252354                  0.004785       0.782405\n",
       "pca40            0.246606                  0.004676       0.787082\n",
       "pca41            0.240226                  0.004556       0.791637\n",
       "pca42            0.234420                  0.004445       0.796083\n",
       "pca43            0.220674                  0.004185       0.800267\n",
       "pca44            0.208876                  0.003961       0.804228\n",
       "pca45            0.202548                  0.003841       0.808069\n",
       "pca46            0.197537                  0.003746       0.811815\n",
       "pca47            0.191079                  0.003624       0.815439\n",
       "pca48            0.184102                  0.003491       0.818930\n",
       "pca49            0.178137                  0.003378       0.822308\n",
       "pca50            0.169253                  0.003210       0.825518"
      ]
     },
     "execution_count": 11,
     "metadata": {},
     "output_type": "execute_result"
    }
   ],
   "source": [
    "result = pd.DataFrame({'explained_variance':pca.explained_variance_,\n",
    "                       'explained_variance_ratio':pca.explained_variance_ratio_,\n",
    "                       'cum_sum_ratio':pca.explained_variance_ratio_.cumsum()},index=pca_col)\n",
    "result.head(50)"
   ]
  },
  {
   "cell_type": "markdown",
   "metadata": {},
   "source": [
    "* 고유값이 1 이상의 주성분들 : 12개\n",
    "* 누적설명률이 80% 이상인 지점에서 주성분 개수 결정 : 43개"
   ]
  },
  {
   "cell_type": "code",
   "execution_count": 12,
   "metadata": {},
   "outputs": [
    {
     "data": {
      "image/png": "[encoded data removed]",
      "text/plain": [
       "<Figure size 640x480 with 1 Axes>"
      ]
     },
     "metadata": {},
     "output_type": "display_data"
    }
   ],
   "source": [
    "# PCA Scree Plot : Elbow point\n",
    "\n",
    "plt.title('Scree Plot')\n",
    "plt.plot(np.arange(1,X_train.shape[1]+1),pca.explained_variance_ratio_)\n",
    "plt.xlabel('Number of PCA')\n",
    "plt.ylabel('Explained variance ratio')\n",
    "plt.show()"
   ]
  },
  {
   "cell_type": "code",
   "execution_count": 13,
   "metadata": {},
   "outputs": [
    {
     "name": "stdout",
     "output_type": "stream",
     "text": [
      "Elbow Point: 50\n"
     ]
    }
   ],
   "source": [
    "# kneed를 사용하여 Elbow point 찾기\n",
    "\n",
    "from kneed import KneeLocator\n",
    "\n",
    "x = np.arange(1, X_train.shape[1] + 1)\n",
    "y = pca.explained_variance_ratio_\n",
    "kneedle = KneeLocator(x, y, curve='convex', direction='decreasing')\n",
    "elbow_point = kneedle.elbow\n",
    "\n",
    "print(f'Elbow Point: {elbow_point}')"
   ]
  },
  {
   "cell_type": "markdown",
   "metadata": {},
   "source": [
    "* 곡선의 기울기가 급격히 감소하는 지점인 Elbow point를 통해 결정한 주성분 개수 : 50개"
   ]
  },
  {
   "cell_type": "markdown",
   "metadata": {},
   "source": [
    "# LDA"
   ]
  },
  {
   "cell_type": "code",
   "execution_count": 14,
   "metadata": {},
   "outputs": [],
   "source": [
    "from sklearn.discriminant_analysis import LinearDiscriminantAnalysis\n",
    "\n",
    "lda = LinearDiscriminantAnalysis()\n",
    "lda_arr = lda.fit_transform(X_train, y_train.flatten())\n",
    "lda_col = [f'lda{i+1}' for i in range(lda_arr.shape[1])]"
   ]
  },
  {
   "cell_type": "code",
   "execution_count": 15,
   "metadata": {},
   "outputs": [
    {
     "data": {
      "text/html": [
       "<div>\n",
       "<style scoped>\n",
       "    .dataframe tbody tr th:only-of-type {\n",
       "        vertical-align: middle;\n",
       "    }\n",
       "\n",
       "    .dataframe tbody tr th {\n",
       "        vertical-align: top;\n",
       "    }\n",
       "\n",
       "    .dataframe thead th {\n",
       "        text-align: right;\n",
       "    }\n",
       "</style>\n",
       "<table border=\"1\" class=\"dataframe\">\n",
       "  <thead>\n",
       "    <tr style=\"text-align: right;\">\n",
       "      <th></th>\n",
       "      <th>explained_variance_ratio</th>\n",
       "      <th>cum_sum_ratio</th>\n",
       "    </tr>\n",
       "  </thead>\n",
       "  <tbody>\n",
       "    <tr>\n",
       "      <th>lda1</th>\n",
       "      <td>0.237081</td>\n",
       "      <td>0.237081</td>\n",
       "    </tr>\n",
       "    <tr>\n",
       "      <th>lda2</th>\n",
       "      <td>0.203288</td>\n",
       "      <td>0.440369</td>\n",
       "    </tr>\n",
       "    <tr>\n",
       "      <th>lda3</th>\n",
       "      <td>0.177983</td>\n",
       "      <td>0.618352</td>\n",
       "    </tr>\n",
       "    <tr>\n",
       "      <th>lda4</th>\n",
       "      <td>0.106335</td>\n",
       "      <td>0.724687</td>\n",
       "    </tr>\n",
       "    <tr>\n",
       "      <th>lda5</th>\n",
       "      <td>0.094156</td>\n",
       "      <td>0.818844</td>\n",
       "    </tr>\n",
       "    <tr>\n",
       "      <th>lda6</th>\n",
       "      <td>0.068968</td>\n",
       "      <td>0.887811</td>\n",
       "    </tr>\n",
       "    <tr>\n",
       "      <th>lda7</th>\n",
       "      <td>0.049905</td>\n",
       "      <td>0.937716</td>\n",
       "    </tr>\n",
       "    <tr>\n",
       "      <th>lda8</th>\n",
       "      <td>0.035078</td>\n",
       "      <td>0.972794</td>\n",
       "    </tr>\n",
       "    <tr>\n",
       "      <th>lda9</th>\n",
       "      <td>0.027206</td>\n",
       "      <td>1.000000</td>\n",
       "    </tr>\n",
       "  </tbody>\n",
       "</table>\n",
       "</div>"
      ],
      "text/plain": [
       "      explained_variance_ratio  cum_sum_ratio\n",
       "lda1                  0.237081       0.237081\n",
       "lda2                  0.203288       0.440369\n",
       "lda3                  0.177983       0.618352\n",
       "lda4                  0.106335       0.724687\n",
       "lda5                  0.094156       0.818844\n",
       "lda6                  0.068968       0.887811\n",
       "lda7                  0.049905       0.937716\n",
       "lda8                  0.035078       0.972794\n",
       "lda9                  0.027206       1.000000"
      ]
     },
     "execution_count": 15,
     "metadata": {},
     "output_type": "execute_result"
    }
   ],
   "source": [
    "result2 = pd.DataFrame({'explained_variance_ratio':lda.explained_variance_ratio_,\n",
    "                        'cum_sum_ratio':lda.explained_variance_ratio_.cumsum()},index=lda_col)\n",
    "result2"
   ]
  },
  {
   "cell_type": "markdown",
   "metadata": {},
   "source": [
    "## 주성분 개수 최종 결정 \n",
    "\n",
    "- 누적설명률이 80% 이상인 지점에서 주성분 개수 결정하여 PCA : 43개 / LDA : 5개"
   ]
  },
  {
   "cell_type": "code",
   "execution_count": 16,
   "metadata": {},
   "outputs": [],
   "source": [
    "pca = PCA(n_components=43)\n",
    "X_train_pca = pca.fit_transform(X_train)\n",
    "X_test_pca = pca.transform(X_test)"
   ]
  },
  {
   "cell_type": "code",
   "execution_count": 17,
   "metadata": {},
   "outputs": [],
   "source": [
    "lda = LinearDiscriminantAnalysis(n_components=5)\n",
    "X_train_lda = lda.fit_transform(X_train, y_train.flatten())\n",
    "X_test_lda = lda.transform(X_test)"
   ]
  },
  {
   "cell_type": "markdown",
   "metadata": {},
   "source": [
    "### 3) 지금까지 배웠던 머신러닝 기법을 이용하여 학습해주세요 (2개이상 사용)"
   ]
  },
  {
   "cell_type": "markdown",
   "metadata": {},
   "source": [
    "###  이때 time stamp를 찍어서 training 시간을 비교하고, test accuracy도 비교해주세요\n",
    "#### (원본 데이터 & PCA 축소 데이터 & LDA 축소 데이터 비교)"
   ]
  },
  {
   "cell_type": "markdown",
   "metadata": {},
   "source": [
    "## 1) Logistic Regression"
   ]
  },
  {
   "cell_type": "code",
   "execution_count": 18,
   "metadata": {},
   "outputs": [],
   "source": [
    "from sklearn.linear_model import LogisticRegression\n",
    "\n",
    "lr = LogisticRegression()"
   ]
  },
  {
   "cell_type": "markdown",
   "metadata": {},
   "source": [
    "##### 원본 데이터"
   ]
  },
  {
   "cell_type": "code",
   "execution_count": 19,
   "metadata": {},
   "outputs": [
    {
     "name": "stdout",
     "output_type": "stream",
     "text": [
      "Elapsed Time: 28.1250 seconds\n"
     ]
    }
   ],
   "source": [
    "import time\n",
    "\n",
    "start = time.time()\n",
    "lr.fit(X_train, y_train)\n",
    "end = time.time()\n",
    "\n",
    "elapsed_time = end - start\n",
    "print(f\"Elapsed Time: {elapsed_time:.4f} seconds\")"
   ]
  },
  {
   "cell_type": "code",
   "execution_count": 21,
   "metadata": {
    "scrolled": true
   },
   "outputs": [
    {
     "name": "stdout",
     "output_type": "stream",
     "text": [
      "0.9237142857142857\n"
     ]
    }
   ],
   "source": [
    "from sklearn.metrics import accuracy_score\n",
    "\n",
    "lr_pred = lr.predict(X_test)\n",
    "print(accuracy_score(lr_pred, y_test))"
   ]
  },
  {
   "cell_type": "markdown",
   "metadata": {},
   "source": [
    "##### PCA 축소 데이터"
   ]
  },
  {
   "cell_type": "code",
   "execution_count": 22,
   "metadata": {},
   "outputs": [
    {
     "name": "stdout",
     "output_type": "stream",
     "text": [
      "Elapsed Time: 3.7031 seconds\n"
     ]
    }
   ],
   "source": [
    "start = time.time()\n",
    "lr.fit(X_train_pca, y_train)\n",
    "end = time.time()\n",
    "\n",
    "elapsed_time = end - start\n",
    "print(f\"Elapsed Time: {elapsed_time:.4f} seconds\")"
   ]
  },
  {
   "cell_type": "code",
   "execution_count": 23,
   "metadata": {},
   "outputs": [
    {
     "name": "stdout",
     "output_type": "stream",
     "text": [
      "0.9055\n"
     ]
    }
   ],
   "source": [
    "lr_pred = lr.predict(X_test_pca)\n",
    "print(accuracy_score(lr_pred, y_test))"
   ]
  },
  {
   "cell_type": "markdown",
   "metadata": {},
   "source": [
    "##### LDA 축소 데이터"
   ]
  },
  {
   "cell_type": "code",
   "execution_count": 24,
   "metadata": {},
   "outputs": [
    {
     "name": "stdout",
     "output_type": "stream",
     "text": [
      "Elapsed Time: 1.8829 seconds\n"
     ]
    }
   ],
   "source": [
    "start = time.time()\n",
    "lr.fit(X_train_lda, y_train)\n",
    "end = time.time()\n",
    "\n",
    "elapsed_time = end - start\n",
    "print(f\"Elapsed Time: {elapsed_time:.4f} seconds\")"
   ]
  },
  {
   "cell_type": "code",
   "execution_count": 25,
   "metadata": {},
   "outputs": [
    {
     "name": "stdout",
     "output_type": "stream",
     "text": [
      "0.8343571428571429\n"
     ]
    }
   ],
   "source": [
    "lr_pred = lr.predict(X_test_lda)\n",
    "print(accuracy_score(lr_pred, y_test))"
   ]
  },
  {
   "cell_type": "markdown",
   "metadata": {},
   "source": [
    "### Logistic Regression 결과\n",
    "- 원본 데이터 : 28.13s / 0.9237\n",
    "- PCA 축소 데이터 : 3.70s / 0.9055\n",
    "- LDA 축소 데이터 : 1.88s / 0.8344\n",
    "\n",
    "해석 : 원본 데이터에서 가장 높은 정확도를 얻었으며, PCA와 LDA 축소 데이터를 사용한 결과도 여전히 좋은 성능을 보이고 있습니다. PCA는 차원을 줄이면서도 상당한 정확도를 유지하며, LDA는 매우 빠른 학습 시간과 어느 정도의 정확도를 제공하고 있습니다."
   ]
  },
  {
   "cell_type": "markdown",
   "metadata": {},
   "source": [
    "## 2) Decision Tree"
   ]
  },
  {
   "cell_type": "code",
   "execution_count": 26,
   "metadata": {},
   "outputs": [],
   "source": [
    "from sklearn.tree import DecisionTreeClassifier\n",
    "\n",
    "dtc = DecisionTreeClassifier()"
   ]
  },
  {
   "cell_type": "markdown",
   "metadata": {},
   "source": [
    "##### 원본 데이터"
   ]
  },
  {
   "cell_type": "code",
   "execution_count": 27,
   "metadata": {},
   "outputs": [
    {
     "name": "stdout",
     "output_type": "stream",
     "text": [
      "Elapsed Time: 40.2587 seconds\n"
     ]
    }
   ],
   "source": [
    "start = time.time()\n",
    "dtc.fit(X_train, y_train)\n",
    "end = time.time()\n",
    "\n",
    "elapsed_time = end - start\n",
    "print(f\"Elapsed Time: {elapsed_time:.4f} seconds\")"
   ]
  },
  {
   "cell_type": "code",
   "execution_count": 28,
   "metadata": {},
   "outputs": [
    {
     "name": "stdout",
     "output_type": "stream",
     "text": [
      "0.8728571428571429\n"
     ]
    }
   ],
   "source": [
    "dtc_pred = dtc.predict(X_test)\n",
    "print(accuracy_score(dtc_pred, y_test))"
   ]
  },
  {
   "cell_type": "markdown",
   "metadata": {},
   "source": [
    "##### PCA 축소 데이터"
   ]
  },
  {
   "cell_type": "code",
   "execution_count": 29,
   "metadata": {},
   "outputs": [
    {
     "name": "stdout",
     "output_type": "stream",
     "text": [
      "Elapsed Time: 26.6271 seconds\n"
     ]
    }
   ],
   "source": [
    "start = time.time()\n",
    "dtc.fit(X_train_pca, y_train)\n",
    "end = time.time()\n",
    "\n",
    "elapsed_time = end - start\n",
    "print(f\"Elapsed Time: {elapsed_time:.4f} seconds\")"
   ]
  },
  {
   "cell_type": "code",
   "execution_count": 30,
   "metadata": {},
   "outputs": [
    {
     "name": "stdout",
     "output_type": "stream",
     "text": [
      "0.8422857142857143\n"
     ]
    }
   ],
   "source": [
    "dtc_pred = dtc.predict(X_test_pca)\n",
    "print(accuracy_score(dtc_pred, y_test))"
   ]
  },
  {
   "cell_type": "markdown",
   "metadata": {},
   "source": [
    "##### LDA 축소 데이터"
   ]
  },
  {
   "cell_type": "code",
   "execution_count": 31,
   "metadata": {},
   "outputs": [
    {
     "name": "stdout",
     "output_type": "stream",
     "text": [
      "Elapsed Time: 2.2621 seconds\n"
     ]
    }
   ],
   "source": [
    "start = time.time()\n",
    "dtc.fit(X_train_lda, y_train)\n",
    "end = time.time()\n",
    "\n",
    "elapsed_time = end - start\n",
    "print(f\"Elapsed Time: {elapsed_time:.4f} seconds\")"
   ]
  },
  {
   "cell_type": "code",
   "execution_count": 32,
   "metadata": {},
   "outputs": [
    {
     "name": "stdout",
     "output_type": "stream",
     "text": [
      "0.7825\n"
     ]
    }
   ],
   "source": [
    "dtc_pred = dtc.predict(X_test_lda)\n",
    "print(accuracy_score(dtc_pred, y_test))"
   ]
  },
  {
   "cell_type": "markdown",
   "metadata": {},
   "source": [
    "### Decision Tree 결과\n",
    "- 원본 데이터 : 40.26s / 0.8729\n",
    "- PCA 축소 데이터 : 26.63s / 0.8423\n",
    "- LDA 축소 데이터 : 2.26s / 0.7825\n",
    "\n",
    "해석 : 원본 데이터에서 가장 높은 정확도를 얻었으며, PCA와 LDA 축소 데이터를 사용한 결과도 여전히 어느 정도의 정확도를 유지하고 있습니다. 원본 데이터에서 학습 시간이 길지만 상대적으로 높은 정확도를 가진 반면, 축소된 데이터는 학습 시간이 짧지만 일부 정보 손실로 인해 정확도가 낮아졌음을 확인할 수 있었습니다. "
   ]
  },
  {
   "cell_type": "markdown",
   "metadata": {},
   "source": [
    "## 3) K-Nearest Neighbors"
   ]
  },
  {
   "cell_type": "code",
   "execution_count": 33,
   "metadata": {},
   "outputs": [],
   "source": [
    "from sklearn.neighbors import KNeighborsClassifier\n",
    "\n",
    "knc = KNeighborsClassifier()"
   ]
  },
  {
   "cell_type": "markdown",
   "metadata": {},
   "source": [
    "##### 원본 데이터"
   ]
  },
  {
   "cell_type": "code",
   "execution_count": 34,
   "metadata": {},
   "outputs": [
    {
     "name": "stdout",
     "output_type": "stream",
     "text": [
      "Elapsed Time: 0.0748 seconds\n"
     ]
    }
   ],
   "source": [
    "start = time.time()\n",
    "knc.fit(X_train, y_train)\n",
    "end = time.time()\n",
    "\n",
    "elapsed_time = end - start\n",
    "print(f\"Elapsed Time: {elapsed_time:.4f} seconds\")"
   ]
  },
  {
   "cell_type": "code",
   "execution_count": 35,
   "metadata": {},
   "outputs": [
    {
     "name": "stdout",
     "output_type": "stream",
     "text": [
      "0.9717142857142858\n"
     ]
    }
   ],
   "source": [
    "knc_pred = knc.predict(X_test)\n",
    "print(accuracy_score(knc_pred, y_test))"
   ]
  },
  {
   "cell_type": "markdown",
   "metadata": {},
   "source": [
    "##### PCA 축소 데이터"
   ]
  },
  {
   "cell_type": "code",
   "execution_count": 36,
   "metadata": {},
   "outputs": [
    {
     "name": "stdout",
     "output_type": "stream",
     "text": [
      "Elapsed Time: 0.0253 seconds\n"
     ]
    }
   ],
   "source": [
    "start = time.time()\n",
    "knc.fit(X_train_pca, y_train)\n",
    "end = time.time()\n",
    "\n",
    "elapsed_time = end - start\n",
    "print(f\"Elapsed Time: {elapsed_time:.4f} seconds\")"
   ]
  },
  {
   "cell_type": "code",
   "execution_count": 37,
   "metadata": {},
   "outputs": [
    {
     "name": "stdout",
     "output_type": "stream",
     "text": [
      "0.9767857142857143\n"
     ]
    }
   ],
   "source": [
    "knc_pred = knc.predict(X_test_pca)\n",
    "print(accuracy_score(knc_pred, y_test))"
   ]
  },
  {
   "cell_type": "markdown",
   "metadata": {},
   "source": [
    "##### LDA 축소 데이터"
   ]
  },
  {
   "cell_type": "code",
   "execution_count": 38,
   "metadata": {},
   "outputs": [
    {
     "name": "stdout",
     "output_type": "stream",
     "text": [
      "Elapsed Time: 0.2139 seconds\n"
     ]
    }
   ],
   "source": [
    "start = time.time()\n",
    "knc.fit(X_train_lda, y_train)\n",
    "end = time.time()\n",
    "\n",
    "elapsed_time = end - start\n",
    "print(f\"Elapsed Time: {elapsed_time:.4f} seconds\")"
   ]
  },
  {
   "cell_type": "code",
   "execution_count": 39,
   "metadata": {},
   "outputs": [
    {
     "name": "stdout",
     "output_type": "stream",
     "text": [
      "0.8377857142857142\n"
     ]
    }
   ],
   "source": [
    "knc_pred = knc.predict(X_test_lda)\n",
    "print(accuracy_score(knc_pred, y_test))"
   ]
  },
  {
   "cell_type": "markdown",
   "metadata": {},
   "source": [
    "### K-Nearest Neighbors 결과\n",
    "- 원본 데이터 : 0.07s / 0.9717\n",
    "- PCA 축소 데이터 : 0.03s / 0.9768\n",
    "- LDA 축소 데이터 : 0.21s / 0.8378\n",
    "\n",
    "해석 : 원본 데이터에서도 높은 정확도를 얻었으며, 축소된 데이터를 사용한 경우에도 어느 정도 높은 정확도를 유지하고 있습니다. 특히 PCA 축소 데이터의 경우, 학습 시간을 크게 단축시키면서 정확도를 높였음을 볼 수 있습니다."
   ]
  }
 ],
 "metadata": {
  "kernelspec": {
   "display_name": "Python 3 (ipykernel)",
   "language": "python",
   "name": "python3"
  },
  "language_info": {
   "codemirror_mode": {
    "name": "ipython",
    "version": 3
   },
   "file_extension": ".py",
   "mimetype": "text/x-python",
   "name": "python",
   "nbconvert_exporter": "python",
   "pygments_lexer": "ipython3",
   "version": "3.11.4"
  }
 },
 "nbformat": 4,
 "nbformat_minor": 2
}
